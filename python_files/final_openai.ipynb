{
 "cells": [
  {
   "cell_type": "code",
   "execution_count": 1,
   "metadata": {},
   "outputs": [
    {
     "name": "stdout",
     "output_type": "stream",
     "text": [
      "Requirement already satisfied: langchain in /opt/homebrew/anaconda3/lib/python3.10/site-packages (0.0.166)\n",
      "Requirement already satisfied: PyYAML>=5.4.1 in /opt/homebrew/anaconda3/lib/python3.10/site-packages (from langchain) (6.0)\n",
      "Requirement already satisfied: SQLAlchemy<3,>=1.4 in /opt/homebrew/anaconda3/lib/python3.10/site-packages (from langchain) (1.4.39)\n",
      "Requirement already satisfied: aiohttp<4.0.0,>=3.8.3 in /opt/homebrew/anaconda3/lib/python3.10/site-packages (from langchain) (3.8.3)\n",
      "Requirement already satisfied: async-timeout<5.0.0,>=4.0.0 in /opt/homebrew/anaconda3/lib/python3.10/site-packages (from langchain) (4.0.2)\n",
      "Requirement already satisfied: dataclasses-json<0.6.0,>=0.5.7 in /opt/homebrew/anaconda3/lib/python3.10/site-packages (from langchain) (0.5.7)\n",
      "Requirement already satisfied: numexpr<3.0.0,>=2.8.4 in /opt/homebrew/anaconda3/lib/python3.10/site-packages (from langchain) (2.8.4)\n",
      "Requirement already satisfied: numpy<2,>=1 in /opt/homebrew/anaconda3/lib/python3.10/site-packages (from langchain) (1.24.3)\n",
      "Requirement already satisfied: openapi-schema-pydantic<2.0,>=1.2 in /opt/homebrew/anaconda3/lib/python3.10/site-packages (from langchain) (1.2.4)\n",
      "Requirement already satisfied: pydantic<2,>=1 in /opt/homebrew/anaconda3/lib/python3.10/site-packages (from langchain) (1.10.2)\n",
      "Requirement already satisfied: requests<3,>=2 in /opt/homebrew/anaconda3/lib/python3.10/site-packages (from langchain) (2.28.1)\n",
      "Requirement already satisfied: tenacity<9.0.0,>=8.1.0 in /opt/homebrew/anaconda3/lib/python3.10/site-packages (from langchain) (8.2.2)\n",
      "Requirement already satisfied: tqdm>=4.48.0 in /opt/homebrew/anaconda3/lib/python3.10/site-packages (from langchain) (4.64.1)\n",
      "Requirement already satisfied: attrs>=17.3.0 in /opt/homebrew/anaconda3/lib/python3.10/site-packages (from aiohttp<4.0.0,>=3.8.3->langchain) (22.1.0)\n",
      "Requirement already satisfied: charset-normalizer<3.0,>=2.0 in /opt/homebrew/anaconda3/lib/python3.10/site-packages (from aiohttp<4.0.0,>=3.8.3->langchain) (2.0.4)\n",
      "Requirement already satisfied: multidict<7.0,>=4.5 in /opt/homebrew/anaconda3/lib/python3.10/site-packages (from aiohttp<4.0.0,>=3.8.3->langchain) (6.0.2)\n",
      "Requirement already satisfied: yarl<2.0,>=1.0 in /opt/homebrew/anaconda3/lib/python3.10/site-packages (from aiohttp<4.0.0,>=3.8.3->langchain) (1.8.1)\n",
      "Requirement already satisfied: frozenlist>=1.1.1 in /opt/homebrew/anaconda3/lib/python3.10/site-packages (from aiohttp<4.0.0,>=3.8.3->langchain) (1.3.3)\n",
      "Requirement already satisfied: aiosignal>=1.1.2 in /opt/homebrew/anaconda3/lib/python3.10/site-packages (from aiohttp<4.0.0,>=3.8.3->langchain) (1.3.1)\n",
      "Requirement already satisfied: marshmallow<4.0.0,>=3.3.0 in /opt/homebrew/anaconda3/lib/python3.10/site-packages (from dataclasses-json<0.6.0,>=0.5.7->langchain) (3.19.0)\n",
      "Requirement already satisfied: marshmallow-enum<2.0.0,>=1.5.1 in /opt/homebrew/anaconda3/lib/python3.10/site-packages (from dataclasses-json<0.6.0,>=0.5.7->langchain) (1.5.1)\n",
      "Requirement already satisfied: typing-inspect>=0.4.0 in /opt/homebrew/anaconda3/lib/python3.10/site-packages (from dataclasses-json<0.6.0,>=0.5.7->langchain) (0.8.0)\n",
      "Requirement already satisfied: typing-extensions>=4.1.0 in /opt/homebrew/anaconda3/lib/python3.10/site-packages (from pydantic<2,>=1->langchain) (4.5.0)\n",
      "Requirement already satisfied: idna<4,>=2.5 in /opt/homebrew/anaconda3/lib/python3.10/site-packages (from requests<3,>=2->langchain) (3.4)\n",
      "Requirement already satisfied: urllib3<1.27,>=1.21.1 in /opt/homebrew/anaconda3/lib/python3.10/site-packages (from requests<3,>=2->langchain) (1.26.14)\n",
      "Requirement already satisfied: certifi>=2017.4.17 in /opt/homebrew/anaconda3/lib/python3.10/site-packages (from requests<3,>=2->langchain) (2023.5.7)\n",
      "Requirement already satisfied: packaging>=17.0 in /opt/homebrew/anaconda3/lib/python3.10/site-packages (from marshmallow<4.0.0,>=3.3.0->dataclasses-json<0.6.0,>=0.5.7->langchain) (22.0)\n",
      "Requirement already satisfied: mypy-extensions>=0.3.0 in /opt/homebrew/anaconda3/lib/python3.10/site-packages (from typing-inspect>=0.4.0->dataclasses-json<0.6.0,>=0.5.7->langchain) (0.4.3)\n",
      "Requirement already satisfied: chromadb in /opt/homebrew/anaconda3/lib/python3.10/site-packages (0.3.22)\n",
      "Requirement already satisfied: pandas>=1.3 in /opt/homebrew/anaconda3/lib/python3.10/site-packages (from chromadb) (1.5.3)\n",
      "Requirement already satisfied: requests>=2.28 in /opt/homebrew/anaconda3/lib/python3.10/site-packages (from chromadb) (2.28.1)\n",
      "Requirement already satisfied: pydantic>=1.9 in /opt/homebrew/anaconda3/lib/python3.10/site-packages (from chromadb) (1.10.2)\n",
      "Requirement already satisfied: hnswlib>=0.7 in /opt/homebrew/anaconda3/lib/python3.10/site-packages (from chromadb) (0.7.0)\n",
      "Requirement already satisfied: clickhouse-connect>=0.5.7 in /opt/homebrew/anaconda3/lib/python3.10/site-packages (from chromadb) (0.5.24)\n",
      "Requirement already satisfied: sentence-transformers>=2.2.2 in /opt/homebrew/anaconda3/lib/python3.10/site-packages (from chromadb) (2.2.2)\n",
      "Requirement already satisfied: duckdb>=0.7.1 in /opt/homebrew/anaconda3/lib/python3.10/site-packages (from chromadb) (0.7.1)\n",
      "Requirement already satisfied: fastapi>=0.85.1 in /opt/homebrew/anaconda3/lib/python3.10/site-packages (from chromadb) (0.95.1)\n",
      "Requirement already satisfied: uvicorn[standard]>=0.18.3 in /opt/homebrew/anaconda3/lib/python3.10/site-packages (from chromadb) (0.22.0)\n",
      "Requirement already satisfied: numpy>=1.21.6 in /opt/homebrew/anaconda3/lib/python3.10/site-packages (from chromadb) (1.24.3)\n",
      "Requirement already satisfied: posthog>=2.4.0 in /opt/homebrew/anaconda3/lib/python3.10/site-packages (from chromadb) (3.0.1)\n",
      "Requirement already satisfied: typing-extensions>=4.5.0 in /opt/homebrew/anaconda3/lib/python3.10/site-packages (from chromadb) (4.5.0)\n",
      "Requirement already satisfied: certifi in /opt/homebrew/anaconda3/lib/python3.10/site-packages (from clickhouse-connect>=0.5.7->chromadb) (2023.5.7)\n",
      "Requirement already satisfied: urllib3>=1.26 in /opt/homebrew/anaconda3/lib/python3.10/site-packages (from clickhouse-connect>=0.5.7->chromadb) (1.26.14)\n",
      "Requirement already satisfied: pytz in /opt/homebrew/anaconda3/lib/python3.10/site-packages (from clickhouse-connect>=0.5.7->chromadb) (2022.7)\n",
      "Requirement already satisfied: zstandard in /opt/homebrew/anaconda3/lib/python3.10/site-packages (from clickhouse-connect>=0.5.7->chromadb) (0.19.0)\n",
      "Requirement already satisfied: lz4 in /opt/homebrew/anaconda3/lib/python3.10/site-packages (from clickhouse-connect>=0.5.7->chromadb) (3.1.3)\n",
      "Requirement already satisfied: starlette<0.27.0,>=0.26.1 in /opt/homebrew/anaconda3/lib/python3.10/site-packages (from fastapi>=0.85.1->chromadb) (0.26.1)\n",
      "Requirement already satisfied: python-dateutil>=2.8.1 in /opt/homebrew/anaconda3/lib/python3.10/site-packages (from pandas>=1.3->chromadb) (2.8.2)\n",
      "Requirement already satisfied: six>=1.5 in /opt/homebrew/anaconda3/lib/python3.10/site-packages (from posthog>=2.4.0->chromadb) (1.16.0)\n",
      "Requirement already satisfied: monotonic>=1.5 in /opt/homebrew/anaconda3/lib/python3.10/site-packages (from posthog>=2.4.0->chromadb) (1.6)\n",
      "Requirement already satisfied: backoff>=1.10.0 in /opt/homebrew/anaconda3/lib/python3.10/site-packages (from posthog>=2.4.0->chromadb) (2.2.1)\n",
      "Requirement already satisfied: charset-normalizer<3,>=2 in /opt/homebrew/anaconda3/lib/python3.10/site-packages (from requests>=2.28->chromadb) (2.0.4)\n",
      "Requirement already satisfied: idna<4,>=2.5 in /opt/homebrew/anaconda3/lib/python3.10/site-packages (from requests>=2.28->chromadb) (3.4)\n",
      "Requirement already satisfied: transformers<5.0.0,>=4.6.0 in /opt/homebrew/anaconda3/lib/python3.10/site-packages (from sentence-transformers>=2.2.2->chromadb) (4.24.0)\n",
      "Requirement already satisfied: tqdm in /opt/homebrew/anaconda3/lib/python3.10/site-packages (from sentence-transformers>=2.2.2->chromadb) (4.64.1)\n",
      "Requirement already satisfied: torch>=1.6.0 in /opt/homebrew/anaconda3/lib/python3.10/site-packages (from sentence-transformers>=2.2.2->chromadb) (2.0.1)\n",
      "Requirement already satisfied: torchvision in /opt/homebrew/anaconda3/lib/python3.10/site-packages (from sentence-transformers>=2.2.2->chromadb) (0.15.2)\n",
      "Requirement already satisfied: scikit-learn in /opt/homebrew/anaconda3/lib/python3.10/site-packages (from sentence-transformers>=2.2.2->chromadb) (1.2.1)\n",
      "Requirement already satisfied: scipy in /opt/homebrew/anaconda3/lib/python3.10/site-packages (from sentence-transformers>=2.2.2->chromadb) (1.10.0)\n",
      "Requirement already satisfied: nltk in /opt/homebrew/anaconda3/lib/python3.10/site-packages (from sentence-transformers>=2.2.2->chromadb) (3.7)\n",
      "Requirement already satisfied: sentencepiece in /opt/homebrew/anaconda3/lib/python3.10/site-packages (from sentence-transformers>=2.2.2->chromadb) (0.1.99)\n",
      "Requirement already satisfied: huggingface-hub>=0.4.0 in /opt/homebrew/anaconda3/lib/python3.10/site-packages (from sentence-transformers>=2.2.2->chromadb) (0.10.1)\n",
      "Requirement already satisfied: click>=7.0 in /opt/homebrew/anaconda3/lib/python3.10/site-packages (from uvicorn[standard]>=0.18.3->chromadb) (8.0.4)\n",
      "Requirement already satisfied: h11>=0.8 in /opt/homebrew/anaconda3/lib/python3.10/site-packages (from uvicorn[standard]>=0.18.3->chromadb) (0.14.0)\n",
      "Requirement already satisfied: httptools>=0.5.0 in /opt/homebrew/anaconda3/lib/python3.10/site-packages (from uvicorn[standard]>=0.18.3->chromadb) (0.5.0)\n",
      "Requirement already satisfied: python-dotenv>=0.13 in /opt/homebrew/anaconda3/lib/python3.10/site-packages (from uvicorn[standard]>=0.18.3->chromadb) (1.0.0)\n",
      "Requirement already satisfied: pyyaml>=5.1 in /opt/homebrew/anaconda3/lib/python3.10/site-packages (from uvicorn[standard]>=0.18.3->chromadb) (6.0)\n",
      "Requirement already satisfied: uvloop!=0.15.0,!=0.15.1,>=0.14.0 in /opt/homebrew/anaconda3/lib/python3.10/site-packages (from uvicorn[standard]>=0.18.3->chromadb) (0.17.0)\n",
      "Requirement already satisfied: watchfiles>=0.13 in /opt/homebrew/anaconda3/lib/python3.10/site-packages (from uvicorn[standard]>=0.18.3->chromadb) (0.19.0)\n",
      "Requirement already satisfied: websockets>=10.4 in /opt/homebrew/anaconda3/lib/python3.10/site-packages (from uvicorn[standard]>=0.18.3->chromadb) (11.0.3)\n",
      "Requirement already satisfied: filelock in /opt/homebrew/anaconda3/lib/python3.10/site-packages (from huggingface-hub>=0.4.0->sentence-transformers>=2.2.2->chromadb) (3.9.0)\n",
      "Requirement already satisfied: packaging>=20.9 in /opt/homebrew/anaconda3/lib/python3.10/site-packages (from huggingface-hub>=0.4.0->sentence-transformers>=2.2.2->chromadb) (22.0)\n",
      "Requirement already satisfied: anyio<5,>=3.4.0 in /opt/homebrew/anaconda3/lib/python3.10/site-packages (from starlette<0.27.0,>=0.26.1->fastapi>=0.85.1->chromadb) (3.5.0)\n",
      "Requirement already satisfied: sympy in /opt/homebrew/anaconda3/lib/python3.10/site-packages (from torch>=1.6.0->sentence-transformers>=2.2.2->chromadb) (1.11.1)\n",
      "Requirement already satisfied: networkx in /opt/homebrew/anaconda3/lib/python3.10/site-packages (from torch>=1.6.0->sentence-transformers>=2.2.2->chromadb) (2.8.4)\n",
      "Requirement already satisfied: jinja2 in /opt/homebrew/anaconda3/lib/python3.10/site-packages (from torch>=1.6.0->sentence-transformers>=2.2.2->chromadb) (3.1.2)\n",
      "Requirement already satisfied: regex!=2019.12.17 in /opt/homebrew/anaconda3/lib/python3.10/site-packages (from transformers<5.0.0,>=4.6.0->sentence-transformers>=2.2.2->chromadb) (2022.7.9)\n",
      "Requirement already satisfied: tokenizers!=0.11.3,<0.14,>=0.11.1 in /opt/homebrew/anaconda3/lib/python3.10/site-packages (from transformers<5.0.0,>=4.6.0->sentence-transformers>=2.2.2->chromadb) (0.11.4)\n",
      "Requirement already satisfied: joblib in /opt/homebrew/anaconda3/lib/python3.10/site-packages (from nltk->sentence-transformers>=2.2.2->chromadb) (1.1.1)\n",
      "Requirement already satisfied: threadpoolctl>=2.0.0 in /opt/homebrew/anaconda3/lib/python3.10/site-packages (from scikit-learn->sentence-transformers>=2.2.2->chromadb) (2.2.0)\n",
      "Requirement already satisfied: pillow!=8.3.*,>=5.3.0 in /opt/homebrew/anaconda3/lib/python3.10/site-packages (from torchvision->sentence-transformers>=2.2.2->chromadb) (9.4.0)\n",
      "Requirement already satisfied: sniffio>=1.1 in /opt/homebrew/anaconda3/lib/python3.10/site-packages (from anyio<5,>=3.4.0->starlette<0.27.0,>=0.26.1->fastapi>=0.85.1->chromadb) (1.2.0)\n",
      "Requirement already satisfied: MarkupSafe>=2.0 in /opt/homebrew/anaconda3/lib/python3.10/site-packages (from jinja2->torch>=1.6.0->sentence-transformers>=2.2.2->chromadb) (2.1.1)\n",
      "Requirement already satisfied: mpmath>=0.19 in /opt/homebrew/anaconda3/lib/python3.10/site-packages/mpmath-1.2.1-py3.10.egg (from sympy->torch>=1.6.0->sentence-transformers>=2.2.2->chromadb) (1.2.1)\n"
     ]
    }
   ],
   "source": [
    "!pip install langchain\n",
    "!pip install chromadb"
   ]
  },
  {
   "cell_type": "code",
   "execution_count": 2,
   "metadata": {},
   "outputs": [],
   "source": [
    "from langchain import PromptTemplate, LLMChain\n",
    "from langchain.chains.qa_with_sources import load_qa_with_sources_chain\n",
    "from langchain.vectorstores import Chroma\n",
    "from langchain.text_splitter import CharacterTextSplitter\n",
    "from langchain.llms import OpenAI\n",
    "from langchain.embeddings.openai import OpenAIEmbeddings\n",
    "from config import openaiapikey as key"
   ]
  },
  {
   "cell_type": "code",
   "execution_count": 3,
   "metadata": {},
   "outputs": [],
   "source": [
    "import os\n",
    "os.environ[\"OPENAI_API_KEY\"] = key"
   ]
  },
  {
   "cell_type": "code",
   "execution_count": 4,
   "metadata": {},
   "outputs": [],
   "source": [
    "template = \"\"\" You are going to be my assistant.\n",
    "Please try to give me the most beneficial answers to my\n",
    "question with reasoning for why they are correct.\n",
    "\n",
    " Question: {input} Answer: \"\"\"\n",
    "prompt = PromptTemplate(template=template, input_variables=[\"input\"])"
   ]
  },
  {
   "cell_type": "code",
   "execution_count": 5,
   "metadata": {},
   "outputs": [],
   "source": [
    "chain = LLMChain(prompt=prompt, llm=OpenAI(temperature=0.8))"
   ]
  },
  {
   "cell_type": "code",
   "execution_count": 6,
   "metadata": {},
   "outputs": [],
   "source": [
    "embeddings = OpenAIEmbeddings()"
   ]
  },
  {
   "cell_type": "code",
   "execution_count": 7,
   "metadata": {},
   "outputs": [],
   "source": [
    "file = open(\"./sample_blog.txt\", \"r\")\n",
    "text = file.read()\n",
    "\n",
    "text_splitter = CharacterTextSplitter(chunk_size=1000, chunk_overlap=0)\n",
    "texts = text_splitter.split_text(text)\n"
   ]
  },
  {
   "cell_type": "code",
   "execution_count": 8,
   "metadata": {},
   "outputs": [
    {
     "name": "stderr",
     "output_type": "stream",
     "text": [
      "Using embedded DuckDB without persistence: data will be transient\n"
     ]
    }
   ],
   "source": [
    "# pass the text and embeddings to ChromaDB\n",
    "db = Chroma.from_texts(texts, embeddings,metadatas=[{\"source\": str(i)} for i in range(len(texts))])"
   ]
  },
  {
   "cell_type": "code",
   "execution_count": 9,
   "metadata": {},
   "outputs": [
    {
     "name": "stdout",
     "output_type": "stream",
     "text": [
      "\n",
      "\n",
      "\u001b[1m> Entering new RefineDocumentsChain chain...\u001b[0m\n",
      "\n",
      "\n",
      "\u001b[1m> Entering new LLMChain chain...\u001b[0m\n",
      "Prompt after formatting:\n",
      "\u001b[32;1m\u001b[1;3mContext information is below. \n",
      "---------------------\n",
      "Content: By the end of the day, enjoy watching or participate in kolam making at the Brahmin Hindu Agraharam. Kolam is a colorful South Indian drawing made using rice flour, rock powder and color powder often drawn on the floor of Hindu homes by female members. Ride back to the ship with memories and beautiful photographs of this rich day. Book now to savor the rich culture of Kochi.\n",
      "\n",
      "The tourist places in Kochi are absolutely captivating and are sure to leave you with a bag full of beautiful memories and aspirations. For those who wish to explore the real treasures of Kerala, a visit to Kochi tourist places is a must.\n",
      "Source: 11\n",
      "---------------------\n",
      "Given the context information and not prior knowledge, answer the question: Make an itinerary with all the places mentioned along with their descriptions in one or two sentences.\n",
      "\u001b[0m\n",
      "\n",
      "\u001b[1m> Finished chain.\u001b[0m\n",
      "\n",
      "\n",
      "\u001b[1m> Entering new LLMChain chain...\u001b[0m\n",
      "Prompt after formatting:\n",
      "\u001b[32;1m\u001b[1;3mThe original question is as follows: Make an itinerary with all the places mentioned along with their descriptions in one or two sentences.\n",
      "We have provided an existing answer, including sources: \n",
      "Morning: Visit the Brahmin Hindu Agraharam to witness the traditional Kolam making ritual.\n",
      "Afternoon: Explore Kochi's captivating and scenic tourist spots.\n",
      "Evening: Ride back to the ship with photos and memories of the day.\n",
      "We have the opportunity to refine the existing answer(only if needed) with some more context below.\n",
      "------------\n",
      "Content: Bolghatty Island is a short boat ride away from mainland Kochi and has Bolghatty Palace which is one of the oldest existing Dutch palaces outside Holland. Bolghatty Palace is now converted into a hotel and there is even a small golf course, a swimming pool, 9-hole golf course, ayurvedic center and daily Kathakali performances and is a popular resort to stay in for Indian and overseas tourists.\n",
      "\n",
      "4. Lulu Shopping Mall, Edappally\n",
      "\n",
      "Kochi also has India’s largest shopping mall in Edappally – Lulu Shopping Mall owned and operated by EMKE Group. For a shopping experience in Kochi there are lots of markets but a visit to Lulu Mall is a treat with air conditioning and 300+ food outlets, stores and restaurants.\n",
      "\n",
      "There are both international brands as well as local specialties to see in this modern complex and there is also a premium five-star, 20-storey, 300 room hotel managed by JW Marriott Hotels is located adjacent to it, within the mall compound.\n",
      "\n",
      "5. Malayattoor\n",
      "Source: 2\n",
      "------------\n",
      "Given the new context, refine the original answer to better answer the question. If you do update it, please update the sources as well. If the context isn't useful, return the original answer.\u001b[0m\n",
      "\n",
      "\u001b[1m> Finished chain.\u001b[0m\n",
      "\n",
      "\n",
      "\u001b[1m> Entering new LLMChain chain...\u001b[0m\n",
      "Prompt after formatting:\n",
      "\u001b[32;1m\u001b[1;3mThe original question is as follows: Make an itinerary with all the places mentioned along with their descriptions in one or two sentences.\n",
      "We have provided an existing answer, including sources: \n",
      "\n",
      "Morning: Visit the Brahmin Hindu Agraharam to witness the traditional Kolam making ritual. Afternoon: Explore Kochi's captivating and scenic tourist spots, including Bolghatty Island, with its Bolghatty Palace, golf course, swimming pool, 9-hole golf course, ayurvedic center, and daily Kathakali performances. Stop by the Lulu Shopping Mall in Edappally for some shopping, with 300+ food outlets, stores, restaurants, and international brands. End the day with a visit to the nearby town of Malayattoor for some spectacular views. Evening: Ride back to the ship with photos and memories of the day. \n",
      "\n",
      "Sources:\n",
      "1. https://www.thehindu.com/society/agrahara-of-coimbatore-holds-traditions-close-to-its-heart/article30861876.ece\n",
      "2. https://www.welcomenri.com/kerala/kochi/lulu-mall.htm\n",
      "We have the opportunity to refine the existing answer(only if needed) with some more context below.\n",
      "------------\n",
      "Content: 1. Fort Kochi\n",
      "\n",
      "The Chinese fishing nets which symbolises Kochi can be seen only in Fort Kochi which may be the only place in the world where the Chinese fishing nets are unique outside China for which the credit goes to the traders from the court of Chinese emperor Kubla Khan. Presently, there are 11 Chinese fishing nets dotting the Fort Kochi shoreline while it was 20 about ten years ago.\n",
      "\n",
      "St Francis Church which is one of the oldest built by Europeans in India and another landmark in this area is Vasco House where Vasco Da Gama is believed to have lived. Visitors can also enjoy walking along Fort Kochi Beach which may be the only beach in the state which has the presence of the Chinese fishing nets and which is also famous for Cochin carnival that is conducted on New Years eve.\n",
      "\n",
      "2. Mattancherry\n",
      "Source: 0\n",
      "------------\n",
      "Given the new context, refine the original answer to better answer the question. If you do update it, please update the sources as well. If the context isn't useful, return the original answer.\u001b[0m\n",
      "\n",
      "\u001b[1m> Finished chain.\u001b[0m\n",
      "\n",
      "\n",
      "\u001b[1m> Entering new LLMChain chain...\u001b[0m\n",
      "Prompt after formatting:\n",
      "\u001b[32;1m\u001b[1;3mThe original question is as follows: Make an itinerary with all the places mentioned along with their descriptions in one or two sentences.\n",
      "We have provided an existing answer, including sources: \n",
      "\n",
      "Morning: Visit the Brahmin Hindu Agraharam to witness the traditional Kolam making ritual. Afternoon: Explore Kochi's captivating and scenic tourist spots, including Bolghatty Island, with its Bolghatty Palace, golf course, swimming pool, 9-hole golf course, ayurvedic center, and daily Kathakali performances. Stop by Fort Kochi, home to the famous Chinese fishing nets, St Francis Church, and Vasco House. Then, head to Mattancherry to visit its historic palace and synagogue. Continue on to the nearby town of Malayattoor for some spectacular views. End the day with some shopping at the Lulu Shopping Mall in Edappally with 300+ food outlets, stores, restaurants, and international brands. Evening: Ride back to the ship with photos and memories of the day. \n",
      "\n",
      "Sources:\n",
      "1. https://www.thehindu.com/society/agrahara-of-coimbatore-holds-traditions-close-to-its-heart/article30861876.ece\n",
      "2. https://www.welcomenri.com/kerala/kochi/lulu-m\n",
      "We have the opportunity to refine the existing answer(only if needed) with some more context below.\n",
      "------------\n",
      "Content: Don’t forget to explore the tourist places outside Kochi too. There are tourist sports around Ernakulam which are very interesting such as the Church at Malayattoor. he name `Malayattoor’ is an amalgamation of three small words. Mala (Mountain) Arr (River) Oore (Place). This is to say, Malayattoor is a meeting place of mountain, river, and land.\n",
      "\n",
      "The most famous tourist attraction in Malayattoor is the Malayatoor Church is situated atop the 609 m high Malayatoor Hill. The church on top of the hill is dedicated to St. Thomas, who is believed to have prayed at this shrine when he came to India.\n",
      "\n",
      "This church is one of the most important Christian pilgrim centers in India.\n",
      "\n",
      "6. Cherai & Vypeen beach\n",
      "\n",
      "Vypeen Island is another island that is really popular among visitors to Kochi & Kerala. Vypeen is also the location of Pallipuram Fort which is the oldest surviving fort in India built by European settlers and was constructed in 1503.\n",
      "Source: 3\n",
      "------------\n",
      "Given the new context, refine the original answer to better answer the question. If you do update it, please update the sources as well. If the context isn't useful, return the original answer.\u001b[0m\n",
      "\n",
      "\u001b[1m> Finished chain.\u001b[0m\n",
      "\n",
      "\u001b[1m> Finished chain.\u001b[0m\n"
     ]
    },
    {
     "data": {
      "text/plain": [
       "{'input_documents': [Document(page_content='By the end of the day, enjoy watching or participate in kolam making at the Brahmin Hindu Agraharam. Kolam is a colorful South Indian drawing made using rice flour, rock powder and color powder often drawn on the floor of Hindu homes by female members. Ride back to the ship with memories and beautiful photographs of this rich day. Book now to savor the rich culture of Kochi.\\n\\nThe tourist places in Kochi are absolutely captivating and are sure to leave you with a bag full of beautiful memories and aspirations. For those who wish to explore the real treasures of Kerala, a visit to Kochi tourist places is a must.', metadata={'source': '11'}),\n",
       "  Document(page_content='Bolghatty Island is a short boat ride away from mainland Kochi and has Bolghatty Palace which is one of the oldest existing Dutch palaces outside Holland. Bolghatty Palace is now converted into a hotel and there is even a small golf course, a swimming pool, 9-hole golf course, ayurvedic center and daily Kathakali performances and is a popular resort to stay in for Indian and overseas tourists.\\n\\n4. Lulu Shopping Mall, Edappally\\n\\nKochi also has India’s largest shopping mall in Edappally – Lulu Shopping Mall owned and operated by EMKE Group. For a shopping experience in Kochi there are lots of markets but a visit to Lulu Mall is a treat with air conditioning and 300+ food outlets, stores and restaurants.\\n\\nThere are both international brands as well as local specialties to see in this modern complex and there is also a premium five-star, 20-storey, 300 room hotel managed by JW Marriott Hotels is located adjacent to it, within the mall compound.\\n\\n5. Malayattoor', metadata={'source': '2'}),\n",
       "  Document(page_content='1. Fort Kochi\\n\\nThe Chinese fishing nets which symbolises Kochi can be seen only in Fort Kochi which may be the only place in the world where the Chinese fishing nets are unique outside China for which the credit goes to the traders from the court of Chinese emperor Kubla Khan. Presently, there are 11 Chinese fishing nets dotting the Fort Kochi shoreline while it was 20 about ten years ago.\\n\\nSt Francis Church which is one of the oldest built by Europeans in India and another landmark in this area is Vasco House where Vasco Da Gama is believed to have lived. Visitors can also enjoy walking along Fort Kochi Beach which may be the only beach in the state which has the presence of the Chinese fishing nets and which is also famous for Cochin carnival that is conducted on New Years eve.\\n\\n2. Mattancherry', metadata={'source': '0'}),\n",
       "  Document(page_content='Don’t forget to explore the tourist places outside Kochi too. There are tourist sports around Ernakulam which are very interesting such as the Church at Malayattoor. he name `Malayattoor’ is an amalgamation of three small words. Mala (Mountain) Arr (River) Oore (Place). This is to say, Malayattoor is a meeting place of mountain, river, and land.\\n\\nThe most famous tourist attraction in Malayattoor is the Malayatoor Church is situated atop the 609 m high Malayatoor Hill. The church on top of the hill is dedicated to St. Thomas, who is believed to have prayed at this shrine when he came to India.\\n\\nThis church is one of the most important Christian pilgrim centers in India.\\n\\n6. Cherai & Vypeen beach\\n\\nVypeen Island is another island that is really popular among visitors to Kochi & Kerala. Vypeen is also the location of Pallipuram Fort which is the oldest surviving fort in India built by European settlers and was constructed in 1503.', metadata={'source': '3'})],\n",
       " 'question': 'Make an itinerary with all the places mentioned along with their descriptions in one or two sentences.',\n",
       " 'output_text': \"\\n\\nMorning: Visit the Brahmin Hindu Agraharam to witness the traditional Kolam making ritual. Afternoon: Explore Kochi's captivating and scenic tourist spots, including Bolghatty Island, with its Bolghatty Palace, golf course, swimming pool, 9-hole golf course, ayurvedic center, and daily Kathakali performances. Stop by Fort Kochi, home to the famous Chinese fishing nets, St Francis Church, and Vasco House. Then, head to Mattancherry to visit its historic palace and synagogue. Continue on to the nearby town of Malayattoor to explore the Malayatoor Church on top of the 609 m high Malayatoor Hill and Pallipuram Fort, the oldest surviving fort in India built by European settlers. Lastly, stop by Cherai and Vypeen beach to enjoy the view. End the day with some shopping at the Lulu Shopping Mall in Edappally with 300+ food outlets, stores, restaurants, and international brands. Evening: Ride back to the ship with photos and memories of the day. \\n\\nSources:\\n1. https://www.thehindu.com/society/agrahara-of-coimbatore\"}"
      ]
     },
     "execution_count": 9,
     "metadata": {},
     "output_type": "execute_result"
    }
   ],
   "source": [
    "my_chain = load_qa_with_sources_chain(OpenAI(temperature=0.8), chain_type=\"refine\", verbose=True)\n",
    "query = \"All places in Kochi\"\n",
    "documents = db.similarity_search(query)\n",
    "que = \"Make an itinerary with all the places mentioned along with their descriptions in one or two sentences.\"\n",
    "result = my_chain({\"input_documents\": documents, \"question\": que})\n",
    "result"
   ]
  },
  {
   "cell_type": "code",
   "execution_count": 10,
   "metadata": {},
   "outputs": [
    {
     "name": "stdout",
     "output_type": "stream",
     "text": [
      "\n",
      "\n",
      "Morning: Visit the Brahmin Hindu Agraharam to witness the traditional Kolam making ritual. Afternoon: Explore Kochi's captivating and scenic tourist spots, including Bolghatty Island, with its Bolghatty Palace, golf course, swimming pool, 9-hole golf course, ayurvedic center, and daily Kathakali performances. Stop by Fort Kochi, home to the famous Chinese fishing nets, St Francis Church, and Vasco House. Then, head to Mattancherry to visit its historic palace and synagogue. Continue on to the nearby town of Malayattoor to explore the Malayatoor Church on top of the 609 m high Malayatoor Hill and Pallipuram Fort, the oldest surviving fort in India built by European settlers. Lastly, stop by Cherai and Vypeen beach to enjoy the view. End the day with some shopping at the Lulu Shopping Mall in Edappally with 300+ food outlets, stores, restaurants, and international brands. Evening: Ride back to the ship with photos and memories of the day. \n",
      "\n",
      "Sources:\n",
      "1. https://www.thehindu.com/society/agrahara-of-coimbatore\n"
     ]
    }
   ],
   "source": [
    "print(result['output_text'])"
   ]
  }
 ],
 "metadata": {
  "kernelspec": {
   "display_name": "base",
   "language": "python",
   "name": "python3"
  },
  "language_info": {
   "codemirror_mode": {
    "name": "ipython",
    "version": 3
   },
   "file_extension": ".py",
   "mimetype": "text/x-python",
   "name": "python",
   "nbconvert_exporter": "python",
   "pygments_lexer": "ipython3",
   "version": "3.10.9"
  },
  "orig_nbformat": 4
 },
 "nbformat": 4,
 "nbformat_minor": 2
}
