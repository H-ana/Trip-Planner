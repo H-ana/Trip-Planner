{
 "cells": [
  {
   "cell_type": "code",
   "execution_count": null,
   "metadata": {},
   "outputs": [],
   "source": [
    "!pip install langchain\n",
    "!pip install chromadb"
   ]
  },
  {
   "cell_type": "code",
   "execution_count": 10,
   "metadata": {},
   "outputs": [],
   "source": [
    "from langchain import PromptTemplate, LLMChain\n",
    "from langchain.chains.qa_with_sources import load_qa_with_sources_chain\n",
    "from langchain.vectorstores import Chroma\n",
    "from langchain.text_splitter import CharacterTextSplitter\n",
    "from langchain.llms import OpenAI\n",
    "from langchain.embeddings.openai import OpenAIEmbeddings\n",
    "from config import openaiapikey as key"
   ]
  },
  {
   "cell_type": "code",
   "execution_count": 11,
   "metadata": {},
   "outputs": [],
   "source": [
    "import os\n",
    "os.environ[\"OPENAI_API_KEY\"] = key"
   ]
  },
  {
   "cell_type": "code",
   "execution_count": 12,
   "metadata": {},
   "outputs": [],
   "source": [
    "template = \"\"\" You are going to be my assistant.\n",
    "Please try to give me the most beneficial answers to my\n",
    "question with reasoning for why they are correct.\n",
    "\n",
    " Question: {input} Answer: \"\"\"\n",
    "prompt = PromptTemplate(template=template, input_variables=[\"input\"])"
   ]
  },
  {
   "cell_type": "code",
   "execution_count": 13,
   "metadata": {},
   "outputs": [],
   "source": [
    "chain = LLMChain(prompt=prompt, llm=OpenAI(temperature=0.8))"
   ]
  },
  {
   "cell_type": "code",
   "execution_count": 14,
   "metadata": {},
   "outputs": [],
   "source": [
    "embeddings = OpenAIEmbeddings()"
   ]
  },
  {
   "cell_type": "code",
   "execution_count": 15,
   "metadata": {},
   "outputs": [],
   "source": [
    "file = open(\"./sample_blog.txt\", \"r\")\n",
    "text = file.read()\n",
    "\n",
    "text_splitter = CharacterTextSplitter(chunk_size=1000, chunk_overlap=0)\n",
    "texts = text_splitter.split_text(text)\n"
   ]
  },
  {
   "cell_type": "code",
   "execution_count": 16,
   "metadata": {},
   "outputs": [
    {
     "name": "stderr",
     "output_type": "stream",
     "text": [
      "Using embedded DuckDB without persistence: data will be transient\n"
     ]
    }
   ],
   "source": [
    "# pass the text and embeddings to ChromaDB\n",
    "db = Chroma.from_texts(texts, embeddings,metadatas=[{\"source\": str(i)} for i in range(len(texts))])"
   ]
  },
  {
   "cell_type": "code",
   "execution_count": 17,
   "metadata": {},
   "outputs": [
    {
     "name": "stdout",
     "output_type": "stream",
     "text": [
      "\n",
      "\n",
      "\u001b[1m> Entering new StuffDocumentsChain chain...\u001b[0m\n",
      "\n",
      "\n",
      "\u001b[1m> Entering new LLMChain chain...\u001b[0m\n",
      "Prompt after formatting:\n",
      "\u001b[32;1m\u001b[1;3mGiven the following extracted parts of a long document and a question, create a final answer with references (\"SOURCES\"). \n",
      "If you don't know the answer, just say that you don't know. Don't try to make up an answer.\n",
      "ALWAYS return a \"SOURCES\" part in your answer.\n",
      "\n",
      "QUESTION: Which state/country's law governs the interpretation of the contract?\n",
      "=========\n",
      "Content: This Agreement is governed by English law and the parties submit to the exclusive jurisdiction of the English courts in  relation to any dispute (contractual or non-contractual) concerning this Agreement save that either party may apply to any court for an  injunction or other relief to protect its Intellectual Property Rights.\n",
      "Source: 28-pl\n",
      "Content: No Waiver. Failure or delay in exercising any right or remedy under this Agreement shall not constitute a waiver of such (or any other)  right or remedy.\n",
      "\n",
      "11.7 Severability. The invalidity, illegality or unenforceability of any term (or part of a term) of this Agreement shall not affect the continuation  in force of the remainder of the term (if any) and this Agreement.\n",
      "\n",
      "11.8 No Agency. Except as expressly stated otherwise, nothing in this Agreement shall create an agency, partnership or joint venture of any  kind between the parties.\n",
      "\n",
      "11.9 No Third-Party Beneficiaries.\n",
      "Source: 30-pl\n",
      "Content: (b) if Google believes, in good faith, that the Distributor has violated or caused Google to violate any Anti-Bribery Laws (as  defined in Clause 8.5) or that such a violation is reasonably likely to occur,\n",
      "Source: 4-pl\n",
      "=========\n",
      "FINAL ANSWER: This Agreement is governed by English law.\n",
      "SOURCES: 28-pl\n",
      "\n",
      "QUESTION: What did the president say about Michael Jackson?\n",
      "=========\n",
      "Content: Madam Speaker, Madam Vice President, our First Lady and Second Gentleman. Members of Congress and the Cabinet. Justices of the Supreme Court. My fellow Americans.  \n",
      "\n",
      "Last year COVID-19 kept us apart. This year we are finally together again. \n",
      "\n",
      "Tonight, we meet as Democrats Republicans and Independents. But most importantly as Americans. \n",
      "\n",
      "With a duty to one another to the American people to the Constitution. \n",
      "\n",
      "And with an unwavering resolve that freedom will always triumph over tyranny. \n",
      "\n",
      "Six days ago, Russia’s Vladimir Putin sought to shake the foundations of the free world thinking he could make it bend to his menacing ways. But he badly miscalculated. \n",
      "\n",
      "He thought he could roll into Ukraine and the world would roll over. Instead he met a wall of strength he never imagined. \n",
      "\n",
      "He met the Ukrainian people. \n",
      "\n",
      "From President Zelenskyy to every Ukrainian, their fearlessness, their courage, their determination, inspires the world. \n",
      "\n",
      "Groups of citizens blocking tanks with their bodies. Everyone from students to retirees teachers turned soldiers defending their homeland.\n",
      "Source: 0-pl\n",
      "Content: And we won’t stop. \n",
      "\n",
      "We have lost so much to COVID-19. Time with one another. And worst of all, so much loss of life. \n",
      "\n",
      "Let’s use this moment to reset. Let’s stop looking at COVID-19 as a partisan dividing line and see it for what it is: A God-awful disease.  \n",
      "\n",
      "Let’s stop seeing each other as enemies, and start seeing each other for who we really are: Fellow Americans.  \n",
      "\n",
      "We can’t change how divided we’ve been. But we can change how we move forward—on COVID-19 and other issues we must face together. \n",
      "\n",
      "I recently visited the New York City Police Department days after the funerals of Officer Wilbert Mora and his partner, Officer Jason Rivera. \n",
      "\n",
      "They were responding to a 9-1-1 call when a man shot and killed them with a stolen gun. \n",
      "\n",
      "Officer Mora was 27 years old. \n",
      "\n",
      "Officer Rivera was 22. \n",
      "\n",
      "Both Dominican Americans who’d grown up on the same streets they later chose to patrol as police officers. \n",
      "\n",
      "I spoke with their families and told them that we are forever in debt for their sacrifice, and we will carry on their mission to restore the trust and safety every community deserves.\n",
      "Source: 24-pl\n",
      "Content: And a proud Ukrainian people, who have known 30 years  of independence, have repeatedly shown that they will not tolerate anyone who tries to take their country backwards.  \n",
      "\n",
      "To all Americans, I will be honest with you, as I’ve always promised. A Russian dictator, invading a foreign country, has costs around the world. \n",
      "\n",
      "And I’m taking robust action to make sure the pain of our sanctions  is targeted at Russia’s economy. And I will use every tool at our disposal to protect American businesses and consumers. \n",
      "\n",
      "Tonight, I can announce that the United States has worked with 30 other countries to release 60 Million barrels of oil from reserves around the world.  \n",
      "\n",
      "America will lead that effort, releasing 30 Million barrels from our own Strategic Petroleum Reserve. And we stand ready to do more if necessary, unified with our allies.  \n",
      "\n",
      "These steps will help blunt gas prices here at home. And I know the news about what’s happening can seem alarming. \n",
      "\n",
      "But I want you to know that we are going to be okay.\n",
      "Source: 5-pl\n",
      "Content: More support for patients and families. \n",
      "\n",
      "To get there, I call on Congress to fund ARPA-H, the Advanced Research Projects Agency for Health. \n",
      "\n",
      "It’s based on DARPA—the Defense Department project that led to the Internet, GPS, and so much more.  \n",
      "\n",
      "ARPA-H will have a singular purpose—to drive breakthroughs in cancer, Alzheimer’s, diabetes, and more. \n",
      "\n",
      "A unity agenda for the nation. \n",
      "\n",
      "We can do this. \n",
      "\n",
      "My fellow Americans—tonight , we have gathered in a sacred space—the citadel of our democracy. \n",
      "\n",
      "In this Capitol, generation after generation, Americans have debated great questions amid great strife, and have done great things. \n",
      "\n",
      "We have fought for freedom, expanded liberty, defeated totalitarianism and terror. \n",
      "\n",
      "And built the strongest, freest, and most prosperous nation the world has ever known. \n",
      "\n",
      "Now is the hour. \n",
      "\n",
      "Our moment of responsibility. \n",
      "\n",
      "Our test of resolve and conscience, of history itself. \n",
      "\n",
      "It is in this moment that our character is formed. Our purpose is found. Our future is forged. \n",
      "\n",
      "Well I know this nation.\n",
      "Source: 34-pl\n",
      "=========\n",
      "FINAL ANSWER: The president did not mention Michael Jackson.\n",
      "SOURCES:\n",
      "\n",
      "QUESTION: Make an itinerary with all the places mentioned along with their descriptions in one or two sentences.\n",
      "=========\n",
      "Content: By the end of the day, enjoy watching or participate in kolam making at the Brahmin Hindu Agraharam. Kolam is a colorful South Indian drawing made using rice flour, rock powder and color powder often drawn on the floor of Hindu homes by female members. Ride back to the ship with memories and beautiful photographs of this rich day. Book now to savor the rich culture of Kochi.\n",
      "\n",
      "The tourist places in Kochi are absolutely captivating and are sure to leave you with a bag full of beautiful memories and aspirations. For those who wish to explore the real treasures of Kerala, a visit to Kochi tourist places is a must.\n",
      "Source: 11\n",
      "\n",
      "Content: Bolghatty Island is a short boat ride away from mainland Kochi and has Bolghatty Palace which is one of the oldest existing Dutch palaces outside Holland. Bolghatty Palace is now converted into a hotel and there is even a small golf course, a swimming pool, 9-hole golf course, ayurvedic center and daily Kathakali performances and is a popular resort to stay in for Indian and overseas tourists.\n",
      "\n",
      "4. Lulu Shopping Mall, Edappally\n",
      "\n",
      "Kochi also has India’s largest shopping mall in Edappally – Lulu Shopping Mall owned and operated by EMKE Group. For a shopping experience in Kochi there are lots of markets but a visit to Lulu Mall is a treat with air conditioning and 300+ food outlets, stores and restaurants.\n",
      "\n",
      "There are both international brands as well as local specialties to see in this modern complex and there is also a premium five-star, 20-storey, 300 room hotel managed by JW Marriott Hotels is located adjacent to it, within the mall compound.\n",
      "\n",
      "5. Malayattoor\n",
      "Source: 2\n",
      "\n",
      "Content: 1. Fort Kochi\n",
      "\n",
      "The Chinese fishing nets which symbolises Kochi can be seen only in Fort Kochi which may be the only place in the world where the Chinese fishing nets are unique outside China for which the credit goes to the traders from the court of Chinese emperor Kubla Khan. Presently, there are 11 Chinese fishing nets dotting the Fort Kochi shoreline while it was 20 about ten years ago.\n",
      "\n",
      "St Francis Church which is one of the oldest built by Europeans in India and another landmark in this area is Vasco House where Vasco Da Gama is believed to have lived. Visitors can also enjoy walking along Fort Kochi Beach which may be the only beach in the state which has the presence of the Chinese fishing nets and which is also famous for Cochin carnival that is conducted on New Years eve.\n",
      "\n",
      "2. Mattancherry\n",
      "Source: 0\n",
      "\n",
      "Content: Don’t forget to explore the tourist places outside Kochi too. There are tourist sports around Ernakulam which are very interesting such as the Church at Malayattoor. he name `Malayattoor’ is an amalgamation of three small words. Mala (Mountain) Arr (River) Oore (Place). This is to say, Malayattoor is a meeting place of mountain, river, and land.\n",
      "\n",
      "The most famous tourist attraction in Malayattoor is the Malayatoor Church is situated atop the 609 m high Malayatoor Hill. The church on top of the hill is dedicated to St. Thomas, who is believed to have prayed at this shrine when he came to India.\n",
      "\n",
      "This church is one of the most important Christian pilgrim centers in India.\n",
      "\n",
      "6. Cherai & Vypeen beach\n",
      "\n",
      "Vypeen Island is another island that is really popular among visitors to Kochi & Kerala. Vypeen is also the location of Pallipuram Fort which is the oldest surviving fort in India built by European settlers and was constructed in 1503.\n",
      "Source: 3\n",
      "=========\n",
      "FINAL ANSWER:\u001b[0m\n",
      "\n",
      "\u001b[1m> Finished chain.\u001b[0m\n",
      "\n",
      "\u001b[1m> Finished chain.\u001b[0m\n"
     ]
    },
    {
     "data": {
      "text/plain": [
       "{'input_documents': [Document(page_content='By the end of the day, enjoy watching or participate in kolam making at the Brahmin Hindu Agraharam. Kolam is a colorful South Indian drawing made using rice flour, rock powder and color powder often drawn on the floor of Hindu homes by female members. Ride back to the ship with memories and beautiful photographs of this rich day. Book now to savor the rich culture of Kochi.\\n\\nThe tourist places in Kochi are absolutely captivating and are sure to leave you with a bag full of beautiful memories and aspirations. For those who wish to explore the real treasures of Kerala, a visit to Kochi tourist places is a must.', metadata={'source': '11'}),\n",
       "  Document(page_content='Bolghatty Island is a short boat ride away from mainland Kochi and has Bolghatty Palace which is one of the oldest existing Dutch palaces outside Holland. Bolghatty Palace is now converted into a hotel and there is even a small golf course, a swimming pool, 9-hole golf course, ayurvedic center and daily Kathakali performances and is a popular resort to stay in for Indian and overseas tourists.\\n\\n4. Lulu Shopping Mall, Edappally\\n\\nKochi also has India’s largest shopping mall in Edappally – Lulu Shopping Mall owned and operated by EMKE Group. For a shopping experience in Kochi there are lots of markets but a visit to Lulu Mall is a treat with air conditioning and 300+ food outlets, stores and restaurants.\\n\\nThere are both international brands as well as local specialties to see in this modern complex and there is also a premium five-star, 20-storey, 300 room hotel managed by JW Marriott Hotels is located adjacent to it, within the mall compound.\\n\\n5. Malayattoor', metadata={'source': '2'}),\n",
       "  Document(page_content='1. Fort Kochi\\n\\nThe Chinese fishing nets which symbolises Kochi can be seen only in Fort Kochi which may be the only place in the world where the Chinese fishing nets are unique outside China for which the credit goes to the traders from the court of Chinese emperor Kubla Khan. Presently, there are 11 Chinese fishing nets dotting the Fort Kochi shoreline while it was 20 about ten years ago.\\n\\nSt Francis Church which is one of the oldest built by Europeans in India and another landmark in this area is Vasco House where Vasco Da Gama is believed to have lived. Visitors can also enjoy walking along Fort Kochi Beach which may be the only beach in the state which has the presence of the Chinese fishing nets and which is also famous for Cochin carnival that is conducted on New Years eve.\\n\\n2. Mattancherry', metadata={'source': '0'}),\n",
       "  Document(page_content='Don’t forget to explore the tourist places outside Kochi too. There are tourist sports around Ernakulam which are very interesting such as the Church at Malayattoor. he name `Malayattoor’ is an amalgamation of three small words. Mala (Mountain) Arr (River) Oore (Place). This is to say, Malayattoor is a meeting place of mountain, river, and land.\\n\\nThe most famous tourist attraction in Malayattoor is the Malayatoor Church is situated atop the 609 m high Malayatoor Hill. The church on top of the hill is dedicated to St. Thomas, who is believed to have prayed at this shrine when he came to India.\\n\\nThis church is one of the most important Christian pilgrim centers in India.\\n\\n6. Cherai & Vypeen beach\\n\\nVypeen Island is another island that is really popular among visitors to Kochi & Kerala. Vypeen is also the location of Pallipuram Fort which is the oldest surviving fort in India built by European settlers and was constructed in 1503.', metadata={'source': '3'})],\n",
       " 'question': 'Make an itinerary with all the places mentioned along with their descriptions in one or two sentences.',\n",
       " 'output_text': ' Itinerary: \\n1. Fort Kochi: Chinese fishing nets, St Francis Church, and Vasco House;\\n2. Mattancherry: Dutch Palace and Jewish Synagogue;\\n3. Brahmin Hindu Agraharam: Kolam making;\\n4. Malayattoor: Malayatoor Church;\\n5. Lulu Shopping Mall: 300+ food outlets, stores and restaurants;\\n6. Bolghatty Island: Bolghatty Palace, 9-hole golf course, swimming pool, ayurvedic center and Kathakali performances;\\n7. Cherai & Vypeen Beach: Pallipuram Fort.\\nSOURCES: 0-pl, 2-pl, 3-pl, 11-pl'}"
      ]
     },
     "execution_count": 17,
     "metadata": {},
     "output_type": "execute_result"
    }
   ],
   "source": [
    "my_chain = load_qa_with_sources_chain(OpenAI(temperature=0.8), chain_type=\"refine\", verbose=True)\n",
    "query = \"All places in Kochi\"\n",
    "documents = db.similarity_search(query)\n",
    "que = \"Make an itinerary with all the places mentioned along with their descriptions in one or two sentences.\"\n",
    "result = my_chain({\"input_documents\": documents, \"question\": que})\n",
    "result"
   ]
  },
  {
   "cell_type": "code",
   "execution_count": 18,
   "metadata": {},
   "outputs": [
    {
     "name": "stdout",
     "output_type": "stream",
     "text": [
      " Itinerary: \n",
      "1. Fort Kochi: Chinese fishing nets, St Francis Church, and Vasco House;\n",
      "2. Mattancherry: Dutch Palace and Jewish Synagogue;\n",
      "3. Brahmin Hindu Agraharam: Kolam making;\n",
      "4. Malayattoor: Malayatoor Church;\n",
      "5. Lulu Shopping Mall: 300+ food outlets, stores and restaurants;\n",
      "6. Bolghatty Island: Bolghatty Palace, 9-hole golf course, swimming pool, ayurvedic center and Kathakali performances;\n",
      "7. Cherai & Vypeen Beach: Pallipuram Fort.\n",
      "SOURCES: 0-pl, 2-pl, 3-pl, 11-pl\n"
     ]
    }
   ],
   "source": [
    "print(result['output_text'])"
   ]
  }
 ],
 "metadata": {
  "kernelspec": {
   "display_name": "base",
   "language": "python",
   "name": "python3"
  },
  "language_info": {
   "codemirror_mode": {
    "name": "ipython",
    "version": 3
   },
   "file_extension": ".py",
   "mimetype": "text/x-python",
   "name": "python",
   "nbconvert_exporter": "python",
   "pygments_lexer": "ipython3",
   "version": "3.10.9"
  },
  "orig_nbformat": 4
 },
 "nbformat": 4,
 "nbformat_minor": 2
}
